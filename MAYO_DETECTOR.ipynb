{
 "cells": [
  {
   "cell_type": "code",
   "execution_count": 5,
   "id": "b851ca85-84ed-4ba2-b155-eddefd88fe4e",
   "metadata": {},
   "outputs": [],
   "source": [
    "import numpy as np\n",
    "import pandas as pd\n",
    "import matplotlib.pyplot as plt\n",
    "import scipy\n",
    "from PIL import Image\n",
    "from scipy import ndimage\n",
    "from tensorflow.keras.activations import relu\n",
    "from tensorflow.keras.activations import sigmoid\n",
    "import copy"
   ]
  },
  {
   "cell_type": "code",
   "execution_count": 6,
   "id": "304e17b9-2bf4-49c3-b511-d36065358a4e",
   "metadata": {},
   "outputs": [],
   "source": [
    "def load_process_csv(csv_path):\n",
    "    data = pd.read_csv(csv_path)\n",
    "    photo_path = data.iloc[:,0]\n",
    "    label = data.iloc[:,1].values\n",
    "    photos_flat = []\n",
    "    for paths in photo_path:\n",
    "        img = Image.open(paths)\n",
    "        img_array = np.array(img).reshape(-1)\n",
    "        photos_flat.append(img_array)\n",
    "    x=np.array(photos_flat).T/255\n",
    "    y=label.reshape(1,-1)\n",
    "    return x, y"
   ]
  },
  {
   "cell_type": "code",
   "execution_count": 7,
   "id": "98133c7b-991a-4dbe-9bc3-65dd5abda428",
   "metadata": {},
   "outputs": [],
   "source": [
    "train_x, train_y = load_process_csv(r\"C:\\Users\\unarv\\NURAL_NETWORK\\train_dataset.csv\")\n",
    "validate_x, validate_y = load_process_csv(r\"C:\\Users\\unarv\\NURAL_NETWORK\\validation_dataset.csv\")\n",
    "test_x, test_y = load_process_csv(r\"C:\\Users\\unarv\\NURAL_NETWORK\\test_dataset.csv\")"
   ]
  },
  {
   "cell_type": "code",
   "execution_count": 8,
   "id": "44ed7b7f-b44c-4ce7-9c2e-015395a58f65",
   "metadata": {},
   "outputs": [
    {
     "name": "stdout",
     "output_type": "stream",
     "text": [
      "(49152, 601)\n"
     ]
    }
   ],
   "source": [
    "print(train_x.shape)"
   ]
  },
  {
   "cell_type": "code",
   "execution_count": 9,
   "id": "c9ffe9e8-4180-4a71-a047-736dbecaa2da",
   "metadata": {},
   "outputs": [],
   "source": [
    "def initialize_parameter(dim_layer):\n",
    "    np.random.seed(4)\n",
    "    parameters={}\n",
    "    L=len(dim_layer)\n",
    "    for l in range(1,L):\n",
    "        parameters['W'+str(l)] = np.random.randn(dim_layer[l],dim_layer[l-1])*0.01\n",
    "        parameters['b'+str(l)] = np.zeros((dim_layer[l],1))\n",
    "    return parameters"
   ]
  },
  {
   "cell_type": "code",
   "execution_count": 10,
   "id": "a8c2eb90-9868-45fb-bbd6-8acb1f88dad3",
   "metadata": {},
   "outputs": [],
   "source": [
    "def linear_forward(A, W, b):\n",
    "    Z=np.dot(W, A)+b\n",
    "    cache = (A, W, b)\n",
    "    return Z, cache"
   ]
  },
  {
   "cell_type": "code",
   "execution_count": 11,
   "id": "7697399b-1914-4966-8d7e-38236b695be3",
   "metadata": {},
   "outputs": [],
   "source": [
    "def linear_forward_activation(A, W, b, activation):\n",
    "    if activation == 'sigmoid':\n",
    "        Z, linear_cache = linear_forward(A, W, b)\n",
    "        A = sigmoid(Z)\n",
    "        activation_cache = Z\n",
    "    elif activation == 'relu':\n",
    "        Z, linear_cache = linear_forward(A, W, b)\n",
    "        A = relu(Z)\n",
    "        activation_cache = Z\n",
    "    cache = (linear_cache, activation_cache)\n",
    "    return Z, cache"
   ]
  },
  {
   "cell_type": "code",
   "execution_count": 12,
   "id": "8cae654b-685f-4464-be6c-6e0059fbdc0c",
   "metadata": {},
   "outputs": [],
   "source": [
    "def forward(X,parameters):\n",
    "    caches=[]\n",
    "    A=X\n",
    "    L = len(parameters)//2\n",
    "    for l in range(1,L):\n",
    "        A_prev=A\n",
    "        A, cache = linear_forward_activation(A_prev, parameters['W' + str(l)], parameters['b' + str(l)], activation = 'relu')\n",
    "        caches.append(cache)\n",
    "    AL, cache = linear_forward_activation(A, parameters['W' + str(L)], parameters['b' + str(L)], activation = 'sigmoid')\n",
    "    caches.append(cache)\n",
    "    return AL, caches"
   ]
  },
  {
   "cell_type": "code",
   "execution_count": 13,
   "id": "ee1cd6c6-1e6c-4bec-a699-4b9b2682fb26",
   "metadata": {},
   "outputs": [],
   "source": [
    "def comp_cost(AL, Y):\n",
    "    m = Y.shape[1]\n",
    "    epsilon = 1e-8\n",
    "    AL = np.clip(AL, epsilon, 1 - epsilon)\n",
    "    cost = -1/m*np.sum((Y*np.log(AL)+((1-Y)*np.log(1-AL))))\n",
    "    cost = np.squeeze(cost)\n",
    "    return cost"
   ]
  },
  {
   "cell_type": "code",
   "execution_count": 14,
   "id": "8bcd1578-83d3-4725-a9c0-e52ef90fea63",
   "metadata": {},
   "outputs": [],
   "source": [
    "def linear_back(dZ, cache):\n",
    "    A_prev, W, b = cache\n",
    "    m = A_prev.shape[1]\n",
    "    dW = 1/m*np.dot(dZ,A_prev.T)\n",
    "    db = 1/m*np.sum(dZ, axis=1, keepdims=True)\n",
    "    dA_prev = np.dot(W.T,dZ)\n",
    "    return dA_prev, dW, db"
   ]
  },
  {
   "cell_type": "code",
   "execution_count": 15,
   "id": "dd7860b2-329b-4652-a1b7-53029cffe977",
   "metadata": {},
   "outputs": [],
   "source": [
    "def sigmoid_backward(dA, activation_cache):\n",
    "    Z = activation_cache\n",
    "    s = sigmoid(Z)\n",
    "    dZ = dA * s * (1 - s)\n",
    "    return dZ\n",
    "def relu_backward(dA, activation_cache):\n",
    "    Z = activation_cache\n",
    "    dZ = np.array(dA, copy=True)\n",
    "    dZ[Z <= 0] = 0\n",
    "    return dZ"
   ]
  },
  {
   "cell_type": "code",
   "execution_count": 16,
   "id": "9111a46d-1f70-4529-b3fa-1e94990c1d41",
   "metadata": {},
   "outputs": [],
   "source": [
    "def linear_backtivation(dA, cache, activation):\n",
    "    linear_cache, activation_cache = cache\n",
    "    if activation == \"relu\":\n",
    "        dZ = relu_backward(dA, activation_cache)\n",
    "        dA_prev, dW, db = linear_back(dZ, linear_cache)\n",
    "    elif activation == 'sigmoid':\n",
    "        dZ = sigmoid_backward(dA, activation_cache)\n",
    "        dA_prev, dW, db = linear_back(dZ, linear_cache)\n",
    "    return dA_prev, dW, db"
   ]
  },
  {
   "cell_type": "code",
   "execution_count": 17,
   "id": "87184757-d585-4bbf-9cc1-4bf993e762b4",
   "metadata": {},
   "outputs": [],
   "source": [
    "def backward(AL, Y, caches):\n",
    "    grads={}\n",
    "    L = len(caches)\n",
    "    m = AL.shape[1]\n",
    "    Y = Y.reshape(AL.shape) \n",
    "    dAL = - (np.divide(Y, AL) - np.divide(1 - Y, 1 - AL))\n",
    "    current_cache = caches[L-1]\n",
    "    dA_prev_temp, dW_temp, db_temp = linear_backtivation(dAL, current_cache, activation=\"sigmoid\")\n",
    "    grads[\"dA\" + str(L-1)] = dA_prev_temp\n",
    "    grads[\"dW\" + str(L)] = dW_temp\n",
    "    grads[\"db\" + str(L)] = db_temp\n",
    "    for l in reversed(range(L-1)):\n",
    "        current_cache = caches[l]\n",
    "        dA_prev_temp, dW_temp, db_temp = linear_backtivation(grads[\"dA\" + str(l + 1)], current_cache, activation=\"relu\")\n",
    "        grads[\"dA\" + str(l)] = dA_prev_temp\n",
    "        grads[\"dW\" + str(l + 1)] = dW_temp\n",
    "        grads[\"db\" + str(l + 1)] = db_temp\n",
    "    return grads"
   ]
  },
  {
   "cell_type": "code",
   "execution_count": 18,
   "id": "d3a14d2e-6775-4a37-8164-b2afd4911ce3",
   "metadata": {},
   "outputs": [],
   "source": [
    "def update_parameters(param, grads, learning_rate):\n",
    "    parameters = copy.deepcopy(param)\n",
    "    L = len(parameters) // 2\n",
    "    for l in range(L):\n",
    "        parameters[\"W\" + str(l+1)] -= learning_rate * grads[\"dW\" + str(l+1)]\n",
    "        parameters[\"b\" + str(l+1)] -= learning_rate * grads[\"db\" + str(l+1)]\n",
    "    return parameters"
   ]
  },
  {
   "cell_type": "code",
   "execution_count": 19,
   "id": "6be34f97-5790-4d4e-b903-00062dfbd47a",
   "metadata": {},
   "outputs": [],
   "source": [
    "dim_layer = [49152, 20, 7, 5, 1]"
   ]
  },
  {
   "cell_type": "code",
   "execution_count": 20,
   "id": "ca233068-848d-4c16-a084-448e97c3f879",
   "metadata": {},
   "outputs": [],
   "source": [
    "def deep_nn(X, Y, layers_dims, learning_rate = 0.0075, num_iterations = 3000, print_cost=False):\n",
    "    np.random.seed(1)\n",
    "    costs = []\n",
    "    parameters = initialize_parameter(layers_dims)\n",
    "    for i in range(0, num_iterations):\n",
    "        AL, caches = forward(X, parameters)\n",
    "        cost = comp_cost(AL, Y)\n",
    "        grads = backward(AL, Y, caches)\n",
    "        parameters  = update_parameters(parameters, grads, learning_rate)\n",
    "        if print_cost and i % 100 == 0 or i == num_iterations - 1:\n",
    "            print(\"Cost after iteration {}: {}\".format(i, np.squeeze(cost)))\n",
    "        if i % 100 == 0 or i == num_iterations:\n",
    "            costs.append(cost)\n",
    "    return parameters, costs"
   ]
  },
  {
   "cell_type": "code",
   "execution_count": null,
   "id": "9651c1b1-3bca-488e-aac5-df999146e47d",
   "metadata": {},
   "outputs": [
    {
     "name": "stdout",
     "output_type": "stream",
     "text": [
      "Cost after iteration 0: 7.49843864781749\n",
      "Cost after iteration 100: 9.409565706806616\n",
      "Cost after iteration 200: 9.409565706806616\n",
      "Cost after iteration 300: 9.409565706806616\n",
      "Cost after iteration 400: 9.409565706806616\n",
      "Cost after iteration 500: 9.409565706806616\n",
      "Cost after iteration 600: 9.409565706806616\n",
      "Cost after iteration 700: 9.409565706806616\n",
      "Cost after iteration 800: 9.409565706806616\n",
      "Cost after iteration 900: 9.409565706806616\n",
      "Cost after iteration 1000: 9.409565706806616\n",
      "Cost after iteration 1100: 9.409565706806616\n",
      "Cost after iteration 1200: 9.409565706806616\n",
      "Cost after iteration 1300: 9.409565706806616\n",
      "Cost after iteration 1400: 9.409565706806616\n",
      "Cost after iteration 1500: 9.409565706806616\n",
      "Cost after iteration 1600: 9.409565706806616\n",
      "Cost after iteration 1700: 9.409565706806616\n",
      "Cost after iteration 1800: 9.409565706806616\n"
     ]
    }
   ],
   "source": [
    "parameters, costs = deep_nn(train_x, train_y, dim_layer, num_iterations = 2500, print_cost = True)"
   ]
  },
  {
   "cell_type": "code",
   "execution_count": null,
   "id": "a12f36d9-1ec5-4941-9d7f-666a5dd340d5",
   "metadata": {},
   "outputs": [],
   "source": [
    "pred_train = predict(train_x, train_y, parameters)"
   ]
  },
  {
   "cell_type": "code",
   "execution_count": null,
   "id": "3c4894f5-fd16-47ba-a221-090c5b8d0a2b",
   "metadata": {},
   "outputs": [],
   "source": [
    "pred_test = predict(test_x, test_y, parameters)"
   ]
  }
 ],
 "metadata": {
  "kernelspec": {
   "display_name": "Python 3 (ipykernel)",
   "language": "python",
   "name": "python3"
  },
  "language_info": {
   "codemirror_mode": {
    "name": "ipython",
    "version": 3
   },
   "file_extension": ".py",
   "mimetype": "text/x-python",
   "name": "python",
   "nbconvert_exporter": "python",
   "pygments_lexer": "ipython3",
   "version": "3.8.19"
  }
 },
 "nbformat": 4,
 "nbformat_minor": 5
}
