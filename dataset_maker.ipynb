{
 "cells": [
  {
   "cell_type": "code",
   "execution_count": null,
   "id": "173d4eef-ac3b-473f-b6a1-9d5d9beb5c81",
   "metadata": {},
   "outputs": [],
   "source": [
    "import os\n",
    "import pandas as pd\n",
    "import random\n",
    "import cv2\n",
    "from sklearn.model_selection import train_test_split"
   ]
  },
  {
   "cell_type": "code",
   "execution_count": null,
   "id": "ddc9591f-eb6a-4425-b547-3edb6294f76c",
   "metadata": {},
   "outputs": [],
   "source": [
    "mayo_dir = r\"C:\\Users\\unarv\\OneDrive\\Documents\\data_cat\\mayo_formatted\"\n",
    "other_dir = r\"C:\\Users\\unarv\\OneDrive\\Documents\\data_cat\\not-mayo\"\n",
    "data = []\n",
    "for filename in os.listdir(mayo_dir):\n",
    "    filepath = os.path.join(mayo_dir, filename)\n",
    "    data.append([filepath, 1])\n",
    "    \n",
    "for filename in os.listdir(other_dir):\n",
    "    filepath = os.path.join(other_dir, filename)\n",
    "    data.append([filepath, 0])\n",
    "\n",
    "random.shuffle(data)\n"
   ]
  },
  {
   "cell_type": "code",
   "execution_count": null,
   "id": "48da2bc0-7c01-48ac-913b-db0128693c9f",
   "metadata": {},
   "outputs": [],
   "source": [
    "df = pd.DataFrame(data, columns=['filename', 'label'])\n",
    "df.to_csv('animal_dataset.csv', index=False)\n"
   ]
  },
  {
   "cell_type": "code",
   "execution_count": null,
   "id": "8a7fdf98-a95b-4689-8d1a-b17ed05db9c6",
   "metadata": {},
   "outputs": [],
   "source": [
    "target_size = (128,128)\n",
    "df = pd.read_csv('animal_dataset.csv')\n",
    "output_dir = 'resized_images'\n",
    "os.makedirs(output_dir, exist_ok=True)\n",
    "resized_image_paths = []\n",
    "for idx, row in df.iterrows():\n",
    "    image_path = row['filename']\n",
    "    label = row['label']\n",
    "    img = cv2.imread(image_path)\n",
    "    if img is None:\n",
    "        print('fail')\n",
    "        continue\n",
    "    img_resized = cv2.resize(img, target_size)\n",
    "    new_filename = os.path.join(output_dir, f\"{idx}_{os.path.basename(image_path)}\")\n",
    "    cv2.imwrite(new_filename, img_resized)\n",
    "    resized_image_paths.append([new_filename,label])\n",
    "df = pd.DataFrame(resized_image_paths, columns=['filename', 'label'])\n",
    "df.to_csv('animal_dataset_resized.csv', index=False)"
   ]
  },
  {
   "cell_type": "code",
   "execution_count": null,
   "id": "4bfa41c9-6f1c-4e71-a205-accc93072119",
   "metadata": {},
   "outputs": [],
   "source": [
    "from sklearn.model_selection import train_test_split\n",
    "df = pd.read_csv('animal_dataset_resized.csv')\n",
    "train_df, temp_df = train_test_split(df, test_size=0.3, random_state=42)\n",
    "validation_df, test_df = train_test_split(temp_df, test_size=0.5, random_state=42)\n",
    "train_df.to_csv('train_dataset.csv', index=False)\n",
    "validation_df.to_csv('validation_dataset.csv', index=False)\n",
    "test_df.to_csv('test_dataset.csv', index=False)"
   ]
  }
 ],
 "metadata": {
  "kernelspec": {
   "display_name": "Python 3 (ipykernel)",
   "language": "python",
   "name": "python3"
  },
  "language_info": {
   "codemirror_mode": {
    "name": "ipython",
    "version": 3
   },
   "file_extension": ".py",
   "mimetype": "text/x-python",
   "name": "python",
   "nbconvert_exporter": "python",
   "pygments_lexer": "ipython3",
   "version": "3.8.19"
  }
 },
 "nbformat": 4,
 "nbformat_minor": 5
}
